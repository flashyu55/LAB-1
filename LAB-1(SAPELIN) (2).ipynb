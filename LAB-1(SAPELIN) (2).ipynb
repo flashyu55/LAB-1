{
 "cells": [
  {
   "cell_type": "code",
   "execution_count": 148,
   "metadata": {},
   "outputs": [],
   "source": [
    "import pandas as pd\n",
    "import numpy as np"
   ]
  },
  {
   "cell_type": "code",
   "execution_count": 19,
   "metadata": {},
   "outputs": [
    {
     "data": {
      "text/html": [
       "<div>\n",
       "<style scoped>\n",
       "    .dataframe tbody tr th:only-of-type {\n",
       "        vertical-align: middle;\n",
       "    }\n",
       "\n",
       "    .dataframe tbody tr th {\n",
       "        vertical-align: top;\n",
       "    }\n",
       "\n",
       "    .dataframe thead th {\n",
       "        text-align: right;\n",
       "    }\n",
       "</style>\n",
       "<table border=\"1\" class=\"dataframe\">\n",
       "  <thead>\n",
       "    <tr style=\"text-align: right;\">\n",
       "      <th></th>\n",
       "      <th>age</th>\n",
       "      <th>workclass</th>\n",
       "      <th>fnlwgt</th>\n",
       "      <th>education</th>\n",
       "      <th>education-num</th>\n",
       "      <th>marital-status</th>\n",
       "      <th>occupation</th>\n",
       "      <th>relationship</th>\n",
       "      <th>race</th>\n",
       "      <th>sex</th>\n",
       "      <th>capital-gain</th>\n",
       "      <th>capital-loss</th>\n",
       "      <th>hours-per-week</th>\n",
       "      <th>native-country</th>\n",
       "      <th>salary</th>\n",
       "    </tr>\n",
       "  </thead>\n",
       "  <tbody>\n",
       "    <tr>\n",
       "      <th>0</th>\n",
       "      <td>39</td>\n",
       "      <td>State-gov</td>\n",
       "      <td>77516</td>\n",
       "      <td>Bachelors</td>\n",
       "      <td>13</td>\n",
       "      <td>Never-married</td>\n",
       "      <td>Adm-clerical</td>\n",
       "      <td>Not-in-family</td>\n",
       "      <td>White</td>\n",
       "      <td>Male</td>\n",
       "      <td>2174</td>\n",
       "      <td>0</td>\n",
       "      <td>40</td>\n",
       "      <td>United-States</td>\n",
       "      <td>&lt;=50K</td>\n",
       "    </tr>\n",
       "    <tr>\n",
       "      <th>1</th>\n",
       "      <td>50</td>\n",
       "      <td>Self-emp-not-inc</td>\n",
       "      <td>83311</td>\n",
       "      <td>Bachelors</td>\n",
       "      <td>13</td>\n",
       "      <td>Married-civ-spouse</td>\n",
       "      <td>Exec-managerial</td>\n",
       "      <td>Husband</td>\n",
       "      <td>White</td>\n",
       "      <td>Male</td>\n",
       "      <td>0</td>\n",
       "      <td>0</td>\n",
       "      <td>13</td>\n",
       "      <td>United-States</td>\n",
       "      <td>&lt;=50K</td>\n",
       "    </tr>\n",
       "    <tr>\n",
       "      <th>2</th>\n",
       "      <td>38</td>\n",
       "      <td>Private</td>\n",
       "      <td>215646</td>\n",
       "      <td>HS-grad</td>\n",
       "      <td>9</td>\n",
       "      <td>Divorced</td>\n",
       "      <td>Handlers-cleaners</td>\n",
       "      <td>Not-in-family</td>\n",
       "      <td>White</td>\n",
       "      <td>Male</td>\n",
       "      <td>0</td>\n",
       "      <td>0</td>\n",
       "      <td>40</td>\n",
       "      <td>United-States</td>\n",
       "      <td>&lt;=50K</td>\n",
       "    </tr>\n",
       "    <tr>\n",
       "      <th>3</th>\n",
       "      <td>53</td>\n",
       "      <td>Private</td>\n",
       "      <td>234721</td>\n",
       "      <td>11th</td>\n",
       "      <td>7</td>\n",
       "      <td>Married-civ-spouse</td>\n",
       "      <td>Handlers-cleaners</td>\n",
       "      <td>Husband</td>\n",
       "      <td>Black</td>\n",
       "      <td>Male</td>\n",
       "      <td>0</td>\n",
       "      <td>0</td>\n",
       "      <td>40</td>\n",
       "      <td>United-States</td>\n",
       "      <td>&lt;=50K</td>\n",
       "    </tr>\n",
       "    <tr>\n",
       "      <th>4</th>\n",
       "      <td>28</td>\n",
       "      <td>Private</td>\n",
       "      <td>338409</td>\n",
       "      <td>Bachelors</td>\n",
       "      <td>13</td>\n",
       "      <td>Married-civ-spouse</td>\n",
       "      <td>Prof-specialty</td>\n",
       "      <td>Wife</td>\n",
       "      <td>Black</td>\n",
       "      <td>Female</td>\n",
       "      <td>0</td>\n",
       "      <td>0</td>\n",
       "      <td>40</td>\n",
       "      <td>Cuba</td>\n",
       "      <td>&lt;=50K</td>\n",
       "    </tr>\n",
       "  </tbody>\n",
       "</table>\n",
       "</div>"
      ],
      "text/plain": [
       "   age         workclass  fnlwgt  education  education-num  \\\n",
       "0   39         State-gov   77516  Bachelors             13   \n",
       "1   50  Self-emp-not-inc   83311  Bachelors             13   \n",
       "2   38           Private  215646    HS-grad              9   \n",
       "3   53           Private  234721       11th              7   \n",
       "4   28           Private  338409  Bachelors             13   \n",
       "\n",
       "       marital-status         occupation   relationship   race     sex  \\\n",
       "0       Never-married       Adm-clerical  Not-in-family  White    Male   \n",
       "1  Married-civ-spouse    Exec-managerial        Husband  White    Male   \n",
       "2            Divorced  Handlers-cleaners  Not-in-family  White    Male   \n",
       "3  Married-civ-spouse  Handlers-cleaners        Husband  Black    Male   \n",
       "4  Married-civ-spouse     Prof-specialty           Wife  Black  Female   \n",
       "\n",
       "   capital-gain  capital-loss  hours-per-week native-country salary  \n",
       "0          2174             0              40  United-States  <=50K  \n",
       "1             0             0              13  United-States  <=50K  \n",
       "2             0             0              40  United-States  <=50K  \n",
       "3             0             0              40  United-States  <=50K  \n",
       "4             0             0              40           Cuba  <=50K  "
      ]
     },
     "execution_count": 19,
     "metadata": {},
     "output_type": "execute_result"
    }
   ],
   "source": [
    "data = pd.read_csv('D:/anaconda/adult.data.csv') \n",
    "data.head()"
   ]
  },
  {
   "cell_type": "code",
   "execution_count": 20,
   "metadata": {},
   "outputs": [
    {
     "data": {
      "text/plain": [
       "pandas.core.frame.DataFrame"
      ]
     },
     "execution_count": 20,
     "metadata": {},
     "output_type": "execute_result"
    }
   ],
   "source": [
    "type(data)"
   ]
  },
  {
   "cell_type": "markdown",
   "metadata": {},
   "source": [
    "**1. Сколько мужчин и женщин (признак *sex*) представлено в этом наборе данных?**"
   ]
  },
  {
   "cell_type": "code",
   "execution_count": 21,
   "metadata": {
    "scrolled": true
   },
   "outputs": [
    {
     "data": {
      "text/plain": [
       "Male      21790\n",
       "Female    10771\n",
       "Name: sex, dtype: int64"
      ]
     },
     "execution_count": 21,
     "metadata": {},
     "output_type": "execute_result"
    }
   ],
   "source": [
    "data['sex'].value_counts()"
   ]
  },
  {
   "cell_type": "markdown",
   "metadata": {},
   "source": [
    "**2. Каков средний возраст (признак *age*) женщин?**"
   ]
  },
  {
   "cell_type": "code",
   "execution_count": 154,
   "metadata": {},
   "outputs": [
    {
     "data": {
      "text/plain": [
       "36.86"
      ]
     },
     "execution_count": 154,
     "metadata": {},
     "output_type": "execute_result"
    }
   ],
   "source": [
    "round(data[data['sex'] == 'Female']['age'].mean(), 2)"
   ]
  },
  {
   "cell_type": "markdown",
   "metadata": {},
   "source": [
    "**3. Какова доля граждан Германии (признак *native-country*)?**"
   ]
  },
  {
   "cell_type": "code",
   "execution_count": 116,
   "metadata": {},
   "outputs": [
    {
     "name": "stdout",
     "output_type": "stream",
     "text": [
      "Доля граждан Германии = 0.420749%.\n"
     ]
    }
   ],
   "source": [
    "print(\"Доля граждан Германии = %f%%.\" % \n",
    "      (len(data[data['native-country'] == 'Germany'].index) / data.shape[0]*100))"
   ]
  },
  {
   "cell_type": "markdown",
   "metadata": {},
   "source": [
    "**4-5. Каковы средние значения и среднеквадратичные отклонения возраста тех, кто получает более 50K в год (признак *salary*) и тех, кто получает менее 50K в год? **"
   ]
  },
  {
   "cell_type": "code",
   "execution_count": 156,
   "metadata": {},
   "outputs": [
    {
     "name": "stdout",
     "output_type": "stream",
     "text": [
      "Средний возраст богатых: 44 +- 10.5 лет, небогатых - 37 +- 14.0 лет.\n"
     ]
    }
   ],
   "source": [
    "ages1 = data[data['salary'] == '>50K']['age']\n",
    "ages2 = data[data['salary'] == '<=50K']['age']\n",
    "print(\"Средний возраст богатых: {0} +- {1} лет, небогатых - {2} +- {3} лет.\".format(\n",
    "    round(ages1.mean()), round(ages1.std(), 1),\n",
    "    round(ages2.mean()), round(ages2.std(), 1)))"
   ]
  },
  {
   "cell_type": "markdown",
   "metadata": {},
   "source": [
    "**6. Правда ли, что люди, которые получают больше 50k, имеют как минимум высшее образование? (признак *education – Bachelors, Prof-school, Assoc-acdm, Assoc-voc, Masters* или *Doctorate*)**"
   ]
  },
  {
   "cell_type": "code",
   "execution_count": 115,
   "metadata": {},
   "outputs": [
    {
     "data": {
      "text/plain": [
       "array(['HS-grad', 'Masters', 'Bachelors', 'Some-college', 'Assoc-voc',\n",
       "       'Doctorate', 'Prof-school', 'Assoc-acdm', '7th-8th', '12th',\n",
       "       '10th', '11th', '9th', '5th-6th', '1st-4th'], dtype=object)"
      ]
     },
     "execution_count": 115,
     "metadata": {},
     "output_type": "execute_result"
    }
   ],
   "source": [
    "data[data['salary'] == '>50K']['education'].unique() # нет"
   ]
  },
  {
   "cell_type": "code",
   "execution_count": 69,
   "metadata": {},
   "outputs": [
    {
     "data": {
      "text/plain": [
       "3306"
      ]
     },
     "execution_count": 69,
     "metadata": {},
     "output_type": "execute_result"
    }
   ],
   "source": [
    "data[(data['salary'] == '>50K') & ~((data['education'] == 'Bachelors')|\n",
    "                                   (data['education'] == 'Prof-school')|\n",
    "                                   (data['education'] == 'Assoc-acdm')|\n",
    "                                   (data['education'] == 'Assoc-voc')|\n",
    "                                   (data['education'] == 'Masters')|(data['education'] == 'Doctorate'))].shape[0]"
   ]
  },
  {
   "cell_type": "markdown",
   "metadata": {},
   "source": [
    "**7. Выведите статистику возраста для каждой расы (признак *race*) и каждого пола. Используйте *groupby* и *describe*. Найдите таким образом максимальный возраст мужчин расы *Amer-Indian-Eskimo*.**"
   ]
  },
  {
   "cell_type": "code",
   "execution_count": 161,
   "metadata": {},
   "outputs": [
    {
     "name": "stderr",
     "output_type": "stream",
     "text": [
      "E:\\anaconda\\lib\\site-packages\\ipykernel_launcher.py:1: FutureWarning: pd.groupby() is deprecated and will be removed; Please use the Series.groupby() or DataFrame.groupby() methods\n",
      "  \"\"\"Entry point for launching an IPython kernel.\n"
     ]
    },
    {
     "name": "stdout",
     "output_type": "stream",
     "text": [
      "Раса: Amer-Indian-Eskimo, пол: Female\n",
      "count    119.000000\n",
      "mean      37.117647\n",
      "std       13.114991\n",
      "min       17.000000\n",
      "25%       27.000000\n",
      "50%       36.000000\n",
      "75%       46.000000\n",
      "max       80.000000\n",
      "Name: age, dtype: float64\n",
      "Раса: Amer-Indian-Eskimo, пол: Male\n",
      "count    192.000000\n",
      "mean      37.208333\n",
      "std       12.049563\n",
      "min       17.000000\n",
      "25%       28.000000\n",
      "50%       35.000000\n",
      "75%       45.000000\n",
      "max       82.000000\n",
      "Name: age, dtype: float64\n",
      "Раса: Asian-Pac-Islander, пол: Female\n",
      "count    346.000000\n",
      "mean      35.089595\n",
      "std       12.300845\n",
      "min       17.000000\n",
      "25%       25.000000\n",
      "50%       33.000000\n",
      "75%       43.750000\n",
      "max       75.000000\n",
      "Name: age, dtype: float64\n",
      "Раса: Asian-Pac-Islander, пол: Male\n",
      "count    693.000000\n",
      "mean      39.073593\n",
      "std       12.883944\n",
      "min       18.000000\n",
      "25%       29.000000\n",
      "50%       37.000000\n",
      "75%       46.000000\n",
      "max       90.000000\n",
      "Name: age, dtype: float64\n",
      "Раса: Black, пол: Female\n",
      "count    1555.000000\n",
      "mean       37.854019\n",
      "std        12.637197\n",
      "min        17.000000\n",
      "25%        28.000000\n",
      "50%        37.000000\n",
      "75%        46.000000\n",
      "max        90.000000\n",
      "Name: age, dtype: float64\n",
      "Раса: Black, пол: Male\n",
      "count    1569.000000\n",
      "mean       37.682600\n",
      "std        12.882612\n",
      "min        17.000000\n",
      "25%        27.000000\n",
      "50%        36.000000\n",
      "75%        46.000000\n",
      "max        90.000000\n",
      "Name: age, dtype: float64\n",
      "Раса: Other, пол: Female\n",
      "count    109.000000\n",
      "mean      31.678899\n",
      "std       11.631599\n",
      "min       17.000000\n",
      "25%       23.000000\n",
      "50%       29.000000\n",
      "75%       39.000000\n",
      "max       74.000000\n",
      "Name: age, dtype: float64\n",
      "Раса: Other, пол: Male\n",
      "count    162.000000\n",
      "mean      34.654321\n",
      "std       11.355531\n",
      "min       17.000000\n",
      "25%       26.000000\n",
      "50%       32.000000\n",
      "75%       42.000000\n",
      "max       77.000000\n",
      "Name: age, dtype: float64\n",
      "Раса: White, пол: Female\n",
      "count    8642.000000\n",
      "mean       36.811618\n",
      "std        14.329093\n",
      "min        17.000000\n",
      "25%        25.000000\n",
      "50%        35.000000\n",
      "75%        46.000000\n",
      "max        90.000000\n",
      "Name: age, dtype: float64\n",
      "Раса: White, пол: Male\n",
      "count    19174.000000\n",
      "mean        39.652498\n",
      "std         13.436029\n",
      "min         17.000000\n",
      "25%         29.000000\n",
      "50%         38.000000\n",
      "75%         49.000000\n",
      "max         90.000000\n",
      "Name: age, dtype: float64\n"
     ]
    }
   ],
   "source": [
    "for (race, sex), sub_df in pd.groupby(data, ['race', 'sex']):\n",
    "    print(\"Раса: {0}, пол: {1}\".format(race, sex))\n",
    "    print(sub_df['age'].describe())"
   ]
  },
  {
   "cell_type": "markdown",
   "metadata": {},
   "source": [
    "**8. Среди кого больше доля зарабатывающих много (>50K): среди женатых или холостых мужчин (признак *marital-status*)? Женатыми считаем тех, у кого *marital-status* начинается с *Married* (Married-civ-spouse, Married-spouse-absent или Married-AF-spouse), остальных считаем холостыми.**"
   ]
  },
  {
   "cell_type": "code",
   "execution_count": 142,
   "metadata": {},
   "outputs": [
    {
     "name": "stdout",
     "output_type": "stream",
     "text": [
      "Men who earn more than 50k. Married men: 5965. Single men: 697\n",
      "There are more married men who earn more than 50K\n"
     ]
    }
   ],
   "source": [
    "marriedMen = data[(data['salary'] == '>50K') & (data['sex'] == 'Male') &\n",
    "                  ((data['marital-status'] == 'Married-civ-spouse')|\n",
    "                  (data['marital-status'] == 'Married-spouse-absent')|\n",
    "                  (data['marital-status'] == 'Married-AF-spouse'))].shape[0]\n",
    "\n",
    "notmarriedMen = data[(data['salary'] == '>50K') & (data['sex'] == 'Male') &~\n",
    "                  ((data['marital-status'] == 'Married-civ-spouse')|\n",
    "                  (data['marital-status'] == 'Married-spouse-absent')|\n",
    "                  (data['marital-status'] == 'Married-AF-spouse'))].shape[0]\n",
    "\n",
    "print (\"Men who earn more than 50k. Married men: %i. Single men: %i\" % (marriedMen,notmarriedMen))\n",
    "\n",
    "\n",
    "if marriedMen > notmarriedMen:\n",
    "    print(\"There are more married men who earn more than 50K\")\n",
    "else:\n",
    "    print(\"There are more single men who earn more than 50K\")"
   ]
  },
  {
   "cell_type": "markdown",
   "metadata": {},
   "source": [
    "**9. Какое максимальное число часов человек работает в неделю (признак *hours-per-week*)? Сколько людей работают такое количество часов и каков среди них процент зарабатывающих много?**"
   ]
  },
  {
   "cell_type": "code",
   "execution_count": 166,
   "metadata": {},
   "outputs": [
    {
     "name": "stdout",
     "output_type": "stream",
     "text": [
      "Самая большая загрузка - 99 час./нед.\n",
      "Всего 85\n",
      "Из них богатых 29%\n"
     ]
    }
   ],
   "source": [
    "max_load = data['hours-per-week'].max()\n",
    "print(\"Самая большая загрузка - {0} час./нед.\".format(max_load))\n",
    "\n",
    "num_workaholics = data[data['hours-per-week'] == max_load].shape[0]\n",
    "print(\"Всего {0}\".format(num_workaholics))\n",
    "\n",
    "rich_share = float(data[(data['hours-per-week'] == max_load)\n",
    "                 & (data['salary'] == '>50K')].shape[0]) / num_workaholics\n",
    "print(\"Из них богатых {0}%\".format(int(100 * rich_share)))"
   ]
  },
  {
   "cell_type": "markdown",
   "metadata": {},
   "source": [
    "**10. Посчитайте среднее время работы (*hours-per-week*) зарабатывающих мало и много (*salary*) для каждой страны (*native-country*).**"
   ]
  },
  {
   "cell_type": "code",
   "execution_count": 151,
   "metadata": {},
   "outputs": [
    {
     "data": {
      "text/html": [
       "<div>\n",
       "<style scoped>\n",
       "    .dataframe tbody tr th:only-of-type {\n",
       "        vertical-align: middle;\n",
       "    }\n",
       "\n",
       "    .dataframe tbody tr th {\n",
       "        vertical-align: top;\n",
       "    }\n",
       "\n",
       "    .dataframe thead th {\n",
       "        text-align: right;\n",
       "    }\n",
       "</style>\n",
       "<table border=\"1\" class=\"dataframe\">\n",
       "  <thead>\n",
       "    <tr style=\"text-align: right;\">\n",
       "      <th>native-country</th>\n",
       "      <th>?</th>\n",
       "      <th>Cambodia</th>\n",
       "      <th>Canada</th>\n",
       "      <th>China</th>\n",
       "      <th>Columbia</th>\n",
       "      <th>Cuba</th>\n",
       "      <th>Dominican-Republic</th>\n",
       "      <th>Ecuador</th>\n",
       "      <th>El-Salvador</th>\n",
       "      <th>England</th>\n",
       "      <th>...</th>\n",
       "      <th>Portugal</th>\n",
       "      <th>Puerto-Rico</th>\n",
       "      <th>Scotland</th>\n",
       "      <th>South</th>\n",
       "      <th>Taiwan</th>\n",
       "      <th>Thailand</th>\n",
       "      <th>Trinadad&amp;Tobago</th>\n",
       "      <th>United-States</th>\n",
       "      <th>Vietnam</th>\n",
       "      <th>Yugoslavia</th>\n",
       "    </tr>\n",
       "    <tr>\n",
       "      <th>salary</th>\n",
       "      <th></th>\n",
       "      <th></th>\n",
       "      <th></th>\n",
       "      <th></th>\n",
       "      <th></th>\n",
       "      <th></th>\n",
       "      <th></th>\n",
       "      <th></th>\n",
       "      <th></th>\n",
       "      <th></th>\n",
       "      <th></th>\n",
       "      <th></th>\n",
       "      <th></th>\n",
       "      <th></th>\n",
       "      <th></th>\n",
       "      <th></th>\n",
       "      <th></th>\n",
       "      <th></th>\n",
       "      <th></th>\n",
       "      <th></th>\n",
       "      <th></th>\n",
       "    </tr>\n",
       "  </thead>\n",
       "  <tbody>\n",
       "    <tr>\n",
       "      <th>&lt;=50K</th>\n",
       "      <td>40.164760</td>\n",
       "      <td>41.416667</td>\n",
       "      <td>37.914634</td>\n",
       "      <td>37.381818</td>\n",
       "      <td>38.684211</td>\n",
       "      <td>37.985714</td>\n",
       "      <td>42.338235</td>\n",
       "      <td>38.041667</td>\n",
       "      <td>36.030928</td>\n",
       "      <td>40.483333</td>\n",
       "      <td>...</td>\n",
       "      <td>41.939394</td>\n",
       "      <td>38.470588</td>\n",
       "      <td>39.444444</td>\n",
       "      <td>40.15625</td>\n",
       "      <td>33.774194</td>\n",
       "      <td>42.866667</td>\n",
       "      <td>37.058824</td>\n",
       "      <td>38.799127</td>\n",
       "      <td>37.193548</td>\n",
       "      <td>41.6</td>\n",
       "    </tr>\n",
       "    <tr>\n",
       "      <th>&gt;50K</th>\n",
       "      <td>45.547945</td>\n",
       "      <td>40.000000</td>\n",
       "      <td>45.641026</td>\n",
       "      <td>38.900000</td>\n",
       "      <td>50.000000</td>\n",
       "      <td>42.440000</td>\n",
       "      <td>47.000000</td>\n",
       "      <td>48.750000</td>\n",
       "      <td>45.000000</td>\n",
       "      <td>44.533333</td>\n",
       "      <td>...</td>\n",
       "      <td>41.500000</td>\n",
       "      <td>39.416667</td>\n",
       "      <td>46.666667</td>\n",
       "      <td>51.43750</td>\n",
       "      <td>46.800000</td>\n",
       "      <td>58.333333</td>\n",
       "      <td>40.000000</td>\n",
       "      <td>45.505369</td>\n",
       "      <td>39.200000</td>\n",
       "      <td>49.5</td>\n",
       "    </tr>\n",
       "  </tbody>\n",
       "</table>\n",
       "<p>2 rows × 42 columns</p>\n",
       "</div>"
      ],
      "text/plain": [
       "native-country          ?   Cambodia     Canada      China   Columbia  \\\n",
       "salary                                                                  \n",
       "<=50K           40.164760  41.416667  37.914634  37.381818  38.684211   \n",
       ">50K            45.547945  40.000000  45.641026  38.900000  50.000000   \n",
       "\n",
       "native-country       Cuba  Dominican-Republic    Ecuador  El-Salvador  \\\n",
       "salary                                                                  \n",
       "<=50K           37.985714           42.338235  38.041667    36.030928   \n",
       ">50K            42.440000           47.000000  48.750000    45.000000   \n",
       "\n",
       "native-country    England     ...       Portugal  Puerto-Rico   Scotland  \\\n",
       "salary                        ...                                          \n",
       "<=50K           40.483333     ...      41.939394    38.470588  39.444444   \n",
       ">50K            44.533333     ...      41.500000    39.416667  46.666667   \n",
       "\n",
       "native-country     South     Taiwan   Thailand  Trinadad&Tobago  \\\n",
       "salary                                                            \n",
       "<=50K           40.15625  33.774194  42.866667        37.058824   \n",
       ">50K            51.43750  46.800000  58.333333        40.000000   \n",
       "\n",
       "native-country  United-States    Vietnam  Yugoslavia  \n",
       "salary                                                \n",
       "<=50K               38.799127  37.193548        41.6  \n",
       ">50K                45.505369  39.200000        49.5  \n",
       "\n",
       "[2 rows x 42 columns]"
      ]
     },
     "execution_count": 151,
     "metadata": {},
     "output_type": "execute_result"
    }
   ],
   "source": [
    "pd.crosstab(data['native-country'], data['salary'], \n",
    "           values=data['hours-per-week'], aggfunc=np.mean).T"
   ]
  },
  {
   "cell_type": "code",
   "execution_count": null,
   "metadata": {},
   "outputs": [],
   "source": []
  }
 ],
 "metadata": {
  "kernelspec": {
   "display_name": "Python 3",
   "language": "python",
   "name": "python3"
  },
  "language_info": {
   "codemirror_mode": {
    "name": "ipython",
    "version": 3
   },
   "file_extension": ".py",
   "mimetype": "text/x-python",
   "name": "python",
   "nbconvert_exporter": "python",
   "pygments_lexer": "ipython3",
   "version": "3.6.5"
  }
 },
 "nbformat": 4,
 "nbformat_minor": 2
}
